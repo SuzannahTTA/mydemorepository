{
 "cells": [
  {
   "cell_type": "code",
   "execution_count": 14,
   "metadata": {},
   "outputs": [
    {
     "name": "stdin",
     "output_type": "stream",
     "text": [
      "Please input a number:  11\n"
     ]
    }
   ],
   "source": [
    "num = int(input(\"Please input a number: \"))\n",
    "a = [i for i in range(2,num) if num % i == 0]"
   ]
  },
  {
   "cell_type": "code",
   "execution_count": 15,
   "metadata": {},
   "outputs": [],
   "source": [
    "def is_prime(number):    \n",
    "    if num > 1:\n",
    "        if len(a) == 0:\n",
    "            print(\"That is a prime number\")\n",
    "        else:\n",
    "            print(\"That is not a prime number\")\n",
    "    \n",
    "    else:\n",
    "        print(\"That is not a prime number\")\n",
    "    \n"
   ]
  },
  {
   "cell_type": "code",
   "execution_count": 16,
   "metadata": {},
   "outputs": [
    {
     "name": "stdout",
     "output_type": "stream",
     "text": [
      "That is a prime number\n"
     ]
    }
   ],
   "source": [
    "is_prime(num)\n"
   ]
  },
  {
   "cell_type": "code",
   "execution_count": null,
   "metadata": {},
   "outputs": [],
   "source": []
  }
 ],
 "metadata": {
  "kernelspec": {
   "display_name": "Python 3",
   "language": "python",
   "name": "python3"
  },
  "language_info": {
   "codemirror_mode": {
    "name": "ipython",
    "version": 3
   },
   "file_extension": ".py",
   "mimetype": "text/x-python",
   "name": "python",
   "nbconvert_exporter": "python",
   "pygments_lexer": "ipython3",
   "version": "3.7.7"
  }
 },
 "nbformat": 4,
 "nbformat_minor": 4
}
